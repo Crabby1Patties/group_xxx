{
 "cells": [
  {
   "cell_type": "markdown",
   "metadata": {},
   "source": [
    "# COGS 118B - Project Proposal"
   ]
  },
  {
   "cell_type": "markdown",
   "metadata": {},
   "source": [
    "# Project Description\n",
    "\n",
    "You will design and execute a machine learning project. There are a few constraints on the nature of the allowed project. \n",
    "- The problem addressed will not be a \"toy problem\" or \"common training students problem\" like mtcars, iris, palmer penguins etc.\n",
    "- The dataset will have >1k observations and >5 variables. I'd prefer more like >10k observations and >10 variables. A general rule is that if you have >100x more observations than variables, your solution will likely generalize a lot better. The goal of training an unsupervised machine learning model is to learn the underlying pattern in a dataset in order to generalize well to unseen data, so choosing a large dataset is very important.\n",
    "\n",
    "- The project must include some elements of unsupervised learning, but you are welcome to include some supervised or other learning approaches as well.\n",
    "- The project will include a model selection and/or feature selection component where you will be looking for the best setup to maximize the performance of your ML system.\n",
    "- You will evaluate the performance of your ML system using more than one appropriate metric\n",
    "- You will be writing a report describing and discussing these accomplishments\n",
    "\n",
    "\n",
    "Feel free to delete this description section when you hand in your proposal."
   ]
  },
  {
   "cell_type": "markdown",
   "metadata": {},
   "source": [
    "# Names\n",
    "\n",
    "Hopefully your team is at least this good. Obviously you should replace these with your names.\n",
    "\n",
    "- Gege Bei\n",
    "- Sikai Liang\n",
    "- Zheren Zhang\n"
   ]
  },
  {
   "cell_type": "markdown",
   "metadata": {},
   "source": [
    "# Abstract \n",
    "This section should be short and clearly stated. It should be a single paragraph <200 words.  It should summarize: \n",
    "- what your goal/problem is\n",
    "- what the data used represents and how they are measured\n",
    "- what you will be doing with the data\n",
    "- how performance/success will be measured"
   ]
  },
  {
   "cell_type": "markdown",
   "metadata": {},
   "source": [
    "The goal of this study is to understand patterns and trends in the historical performance of Olympic athletes of different sports belonging to different countries. Utilizing the \"120 years of Olympic history\" dataset, which encapsulates a wide array of metricso of Olympic games including athletes' demographics, event types, and medal outcomes, we aim to identify underlying structures within the data. Data cleaning, EDA, and the application of supervised and unsupervised machine learning model to detect evolution patterns in athlete performance, shifts in sporting disciplines, and emerging trends in country-level competitiveness. By applying these research steps, we intend to come to a conclusion that may offer insights into the dynamics of Olympic sports, potentially guiding strategic decisions in athlete training and preparation, and better knowledge about the countries that produce these athletes. The performance/success of this model and conclusion would be measured by if the cluster results are clear and align with known historical contexts, as well as if it generates interesting unrecognized patterns that might help to shape the policies in future Olympics."
   ]
  },
  {
   "cell_type": "markdown",
   "metadata": {},
   "source": [
    "# Background\n",
    "\n",
    "Fill in the background and discuss the kind of prior work that has gone on in this research area here. **Use inline citation** to specify which references support which statements.  You can do that through HTML footnotes (demonstrated here). I used to reccommend Markdown footnotes (google is your friend) because they are simpler but recently I have had some problems with them working for me whereas HTML ones always work so far. So use the method that works for you, but do use inline citations.\n",
    "\n",
    "Here is an example of inline citation. After government genocide in the 20th century, real birds were replaced with surveillance drones designed to look just like birds<a name=\"lorenz\"></a>[<sup>[1]</sup>](#lorenznote). Use a minimum of 2 or 3 citations, but we prefer more <a name=\"admonish\"></a>[<sup>[2]</sup>](#admonishnote). You need enough citations to fully explain and back up important facts. \n",
    "\n",
    "Remeber you are trying to explain why someone would want to answer your question or why your hypothesis is in the form that you've stated. "
   ]
  },
  {
   "cell_type": "markdown",
   "metadata": {
    "jp-MarkdownHeadingCollapsed": true
   },
   "source": [
    "As we have learned in this class, machine learning can be a powerful tool for uncovering hidden patterns in various fields. Sports, being a significant aspect of entertainment in human lives, can benefit immensely from the application of machine learning algorithms.\n",
    "\n",
    "\n",
    "Unsupervised learning algorithms, in particular, are very efficient at helping us detect interesting trends in the development of sports. Numerous prior studies have been conducted in the realm of popular sports. For example, researchers have used unsupervised learning algorithms like SDAE to classify different types of sports based on movement patterns sed on movement patterns.<a name=\"zhao\"></a>[<sup>[4]</sup>](#zhaonote)\n",
    "\n",
    "\n",
    "More inline to our study, reasearcher have also look at the performance of atheletes in one specific sport with unsupervised learning algorithm to predict future athlete performance trend or player/team differences with noticeble success, as mentioned in the study by ofoghi et al<a name=\"ofoghi\"></a>[<sup>[5]</sup>](#ofoghinote), researchers have used K-means clustering to understand the relationship between cycling athlete medal chance with rankings of different events in the competetion that favors endurance or sprint abilities. The research yielded results that uncovered interesting relationship between certain event rankings, like for a male rider to win the medal he has to has both endurance and sprinting abilities, with neither being excellent, and less importance on the endurance aspect.\n",
    "\n",
    "Also,these algorithms can be used on evaluating if the sports have evolved pass the original state. The study by Silva et al.<a name=\"silva\"></a>[<sup>[6]</sup>](#silvanote), on  ALL-NBA teams player selection, both supervised and unsupervised learning algorithm were incorporated. Logistic regression were utilized to understand if prior classic NBA player positions(such as center ,forward, guard) still is effective at classifying the player pool that has developed significantly since then. Then PCA was applied to understand if the players have evolved to a point where the classic position can't define t\n",
    "\n",
    "hem efficiently anymore."
   ]
  },
  {
   "cell_type": "markdown",
   "metadata": {},
   "source": [
    "# Problem Statement\n",
    "\n",
    "Clearly describe the problem that you are solving. Avoid ambiguous words. The problem described should be well defined and should have at least one ML-relevant potential solution. Additionally, describe the problem thoroughly such that it is clear that the problem is quantifiable (the problem can be expressed in mathematical or logical terms), measurable (the problem can be measured by some metric and clearly observed), and replicable (the problem can be reproduced and occurs more than once)."
   ]
  },
  {
   "cell_type": "markdown",
   "metadata": {},
   "source": [
    "How can we effectively predict future Olympic medalists by constructing algorithm models like GMM/K-Means/hierarchical clustering etc. based on metrics of athlete's sex, age, height, weight, team, event, sport, and medal, enabling National Olympic Committees to optimize athlete development and resource allocation?\n",
    "\n",
    "In order to solve this problem, we will utilize unsupervised machine learning techniques, specifically clustering algorithms like K-Means, Hierarchical Clustering, and Gaussian Mixture Models (GMM), to group athletes into clusters based on similarities in their profiles and historical performances. We will implement and compare various clustering algorithms to identify groupings most strongly correlated with Olympic medal-winning potential. To evaluate the effectiveness of these groupings, we will adopt a hybrid approach, utilizing both unsupervised and supervised evaluation metrics. For the unsupervised aspect, we will measure the log-likelihood function to assess the model's fit to the data. In the supervised context, even though our primary approach is unsupervised, we will leverage labeled data (medal winners vs. non-winners) to calculate the F1 score and analyze the confusion matrix, providing insight into the precision, recall, and overall accuracy of our clusters in predicting medal-winning athletes. Moreover, this unsupervised learning model is designed for adaptability, allowing it to be reapplied as new athlete data become available or as the focus shifts to different Olympic events. The model's parameters can be adjusted to reflect changes in the sports and Olympic competition formats. This model gives practical insights into the essential qualities of successful Olympians, which can be used to influence future athlete selection and training. It allows sports organizations to more efficiently spend resources by focusing on individuals whose profiles resemble those of previous medal winners. Ultimately, this approach intends to improve Olympic team performance, resulting in a more targeted and effective preparation for the world's premier sporting event."
   ]
  },
  {
   "cell_type": "markdown",
   "metadata": {},
   "source": [
    "# Data\n",
    "\n",
    "You should have a strong idea of what dataset(s) will be used to accomplish this project. \n",
    "\n",
    "If you know what (some) of the data you will use, please give the following information for each dataset:\n",
    "- link/reference to obtain it\n",
    "- description of the size of the dataset (# of variables, # of observations)\n",
    "- what an observation consists of\n",
    "- what some critical variables are, how they are represented\n",
    "- any special handling, transformations, cleaning, etc will be needed\n",
    "\n",
    "If you don't yet know what your dataset(s) will be, you should describe what you desire in terms of the above bullets."
   ]
  },
  {
   "cell_type": "markdown",
   "metadata": {},
   "source": [
    "Link to the dataset: https://www.kaggle.com/datasets/heesoo37/120-years-of-olympic-history-athletes-and-results\n",
    "\n",
    "We are using the dataset \"120 years of Olympic history: athletes and results\" for our analysis. The dataset contains 271116 unique observations and 15 variables, presents a rich record of Olympic history but also requires careful preparation to address inconsistencies, missing values, and anomalies that could skew our unsupervised learning models.\n",
    "\n",
    "An observation in our dataset consists of:\n",
    "\n",
    "- Unique number for each athlete\n",
    "- Athlete's name\n",
    "- Sex（ Male or Female)\n",
    "- Age \n",
    "- Height \n",
    "- Weight \n",
    "- kilograms\n",
    "- Games(Year and season they won)\n",
    "- Team\n",
    "- Sport\n",
    "- Event\n",
    "- Medal (Gold, Silver, Bronze, or NA)\n",
    "- City (Host city)\n",
    "- ...\n",
    "\n",
    "Feature selection: during the data cleaning and wrangling phase for our predictive model aimed at identifying future Olympic medalists, we will meticulously select a subset of the most pertinent features from the historical Olympic dataset. We will check and eliminate any duplicate entries to ensure that each observation in our dataset is unique, and drop irrelevant variables. Considering the historical context of the dataset, where Winter and Summer Games were held in the same year until 1992 and then staggered post-1992, we'll adjust our analysis to accurately reflect this timeline. The primary variables for our analysis will include athletes' physical attributes like age, weight, height, and performance metrics such as number of medals won, and type of sport they participate, national teams they represented. categorical variables like team and event will be encoded using methods suited to the analysis context. Given the vast and diverse nature of the Olympic disciplines, categorizing athletes into their respective sports and events is crucial. However, the direct inclusion of categorical variables such as sport name and event, which can exceed 100 unique values, we would introduce one-hot encoding during the data cleaning process due to the high dimensionality."
   ]
  },
  {
   "cell_type": "markdown",
   "metadata": {},
   "source": [
    "# Proposed Solution\n",
    "\n",
    "In this section, clearly describe a solution to the problem. The solution should be applicable to the project domain and appropriate for the dataset(s) or input(s) given. Provide enough detail (e.g., algorithmic description and/or theoretical properties) to convince us that your solution is applicable. Why might your solution work? Make sure to describe how the solution will be tested.  \n",
    "\n",
    "If you know details already, describe how (e.g., library used, function calls) you plan to implement the solution in a way that is reproducible.\n",
    "\n",
    "If it is appropriate to the problem statement, describe a benchmark model<a name=\"sota\"></a>[<sup>[3]</sup>](#sotanote) against which your solution will be compared. "
   ]
  },
  {
   "cell_type": "markdown",
   "metadata": {},
   "source": [
    "As mentioned in the problem statement, we are trying to predict the future medal winners based on the medal winning atheletes' characteristics in the previous olympic games, the parameters of characteristics include sex, age, height, weight, event, sport, and team. After initial evaluation on the dataset, we decided to implement GMM to make the prediction. Since based on our dataset, individual athelete belongs to various distributions/clusterings, meaning we have to implement an algorithm that takes this into consideration, as we know GMM is best for dataset that has underlying distributions and clusters that are aberrant, in addition, GMM is also capable of generating multivariate analysis, which is suitable for our problem statement, which we intend to consider 7 parameters to make the final prediction on the medal winners, therefore, GMM model would fulfill our demand due to its ability of handling multivariate analysis. Moreover, we are trying to make a prediction, and the principle of GMM states that ultimately GMM model could provide probabilistic cluster memberships that indicate the athelete's likelihood of belonging to high performance group which means potential medal winners. In addition, instead of only implementing unsupervised machine learning algorithm which is GMM model in this case, we want to make more direct prediction instead of merely providing insights, hence, it is necessary to also integrate supervised machine learning algorithms into our proposed solution, we decided to implement logistic regression as the supervised machine learning algorithms to make the direct prediction based on the clusters that were indicated by prior GMM model.  \n",
    "\n",
    "The reason why we chose logistic regression is the result that it generates is a binary result, which would give us the direct prediction of what charateristics that individual athelete possesses would make him/her a medal winner, which corresponds to our problem statement of predicting the future medal winners. It is also important to test our models to ensure they fit the dataset and they are accurate. For GMM model, since it is a unsupervised machine learning algorithm, we decided to implement log-likelihood function since it reflects how well the GMM model fits the distribution of the data; and for logistic regression, we decided to implement F1 score and confusion matrix, since the F1 socre balances the precision and recall which are both important to consider in our problem, and confusion matrix provides a comprehensive analysis of the model performance which is essential in improving our model."
   ]
  },
  {
   "cell_type": "markdown",
   "metadata": {},
   "source": [
    "# Evaluation Metrics\n",
    "\n",
    "Propose at least one evaluation metric that can be used to quantify the performance of both the benchmark model and the solution model. The evaluation metric(s) you propose should be appropriate given the context of the data, the problem statement, and the intended solution. Describe how the evaluation metric(s) are derived and provide an example of their mathematical representations (if applicable). Complex evaluation metrics should be clearly defined and quantifiable (can be expressed in mathematical or logical terms)."
   ]
  },
  {
   "cell_type": "markdown",
   "metadata": {},
   "source": [
    "As what we mentioned in the previous sections, we wanted to implement separate evaluation metrics for supervised and unsupervised algorithms. For unsupervised algorithm -- GMM model, we decided to implement log likelihood function to evaluate its performance. Since log likelihood function could provide the information of overall fit regarding the GMM model on our dataset, the higher log likelihood indicates a better fit. However, one drawback on this method is the computational cost might be high, since we need to sum the log probabilities of all the data in the dataset. So we might consider using regularization criteria in order to reduce the computational cost by reducing the complexity of the model.\n",
    "\n",
    "For supervised algorithm -- logistic regression, we decided to implement F1 score and confusion matrix on the model. The reason for utilizing F1 score is high recall score, which is the model corretly identifying most of the medal winners, while including some false positive results; and high precision score, which is when the model predicts an athelete to be the medal winner, it is most likely to be correct, while missing some actual winners are both desirable and important to our model, and F1 score balances between these two metrics and provide a more detailed result. The reason for using confusion matrix is it includes TP, TN, FP, FN, which would provide a comprehensive evaluation regarding the prediction results of our model which is essential for improving our model later on. Moreover, since logistic regression is a binary model, and confusion matrix is ideal for accessing binary model which is suitable in this case."
   ]
  },
  {
   "cell_type": "markdown",
   "metadata": {},
   "source": [
    "# Ethics & Privacy"
   ]
  },
  {
   "cell_type": "markdown",
   "metadata": {},
   "source": [
    "If your project has obvious potential concerns with ethics or data privacy discuss that here.  Almost every ML project put into production can have ethical implications if you use your imagination. Use your imagination. Get creative!\n",
    "\n",
    "Even if you can't come up with an obvious ethical concern that should be addressed, you should know that a large number of ML projects that go into producation have unintended consequences and ethical problems once in production. How will your team address these issues?\n",
    "\n",
    "Consider a tool to help you address the potential issues such as https://deon.drivendata.org"
   ]
  },
  {
   "cell_type": "markdown",
   "metadata": {},
   "source": [
    "Using the olympic results dataset could lead to several potential ethics & privacy concerns.\n",
    "\n",
    "1.The algorithm used to uncover potential trends can lead to conclusions that might affect the athletes. If the research produced conclusion that shows athletes from certain countries having lesser performance(or physical characteristics) for certain sports, there could be unwanted misinterpretation of the result that leads to discrimination.\n",
    "\n",
    "2.Although this is a olympic dataset, so there is not a market for sports betting, many sports included do have their own league or competetion that have betting markets, so the research might influence this and potentially leads to ethical issues around consent and the integrity of sports.\n",
    "\n",
    "3.Ethics issue aroung doping problems in olympic games could also pose a problem, as there are multiple cases of atheles being stripped of their results in retroactive drug testing. These results can be very controversial.\n",
    "\n",
    "4.Lastly, since olympic games is a global event, it also subjects to global economy and politics, therefore using the dataset and interpreting the results in it could also have problems that are associated with olympic games, such as gender inequality issues in events or underepresentation of countries that are in political turmoil or with economic hardship. These factors could lead to results that are not ethical."
   ]
  },
  {
   "cell_type": "markdown",
   "metadata": {},
   "source": [
    "# Team Expectations "
   ]
  },
  {
   "cell_type": "markdown",
   "metadata": {},
   "source": [
    "Put things here that cement how you will interact/communicate as a team, how you will handle conflict and difficulty, how you will handle making decisions and setting goals/schedule, how much work you expect from each other, how you will handle deadlines, etc...\n",
    "* *Communicate with each other on time, speak your mind whenever you feel like there is a problem.*\n",
    "* *The work is split evenly between everybody.*\n",
    "* *Attend scheduled meetings on time, and communicate to the teammates if you can't make it.*\n",
    "* *Make sure to submit the project on time.*\n",
    "* *Be polite to each other.*"
   ]
  },
  {
   "cell_type": "markdown",
   "metadata": {},
   "source": [
    "# Project Timeline Proposal"
   ]
  },
  {
   "cell_type": "markdown",
   "metadata": {},
   "source": [
    "Replace this with something meaningful that is appropriate for your needs. It doesn't have to be something that fits this format.  It doesn't have to be set in stone... \"no battle plan survives contact with the enemy\". But you need a battle plan nonetheless, and you need to keep it updated so you understand what you are trying to accomplish, who's responsible for what, and what the expected due dates are for each item.\n",
    "\n",
    "| Meeting Date  | Meeting Time| Completed Before Meeting  | Discuss at Meeting |\n",
    "|---|---|---|---|\n",
    "| 2/18  |  2 PM |  Brainstorm topics/questions (all)  | Determine best form of communication(all); Discuss and decide on final project topic(all); discuss hypothesis(all); background research(all) ; Work on ethics/privacy(all);|\n",
    "| 2/24  | 2 PM  | Submit proposal(All),Data cleaning(Gege)  | Discuss Wrangling and possible analytical approaches; Assign group members to lead each specific part(all)   |\n",
    "| 3/2  | 2 PM  | Import & Wrangle Data ,do some EDA (Sikai) | Discuss Analysis(all),Review/Edit wrangling/EDA(Zheren); work on Analysis Plan(Gege)   |\n",
    "| 3/9  | 2 PM  | Finalize wrangling/EDA(all); Begin programming for machine learning model(all)  | Discuss/edit project code; Complete project(all) |\n",
    "| 3/16  | 2 PM  | Complete analysis; Draft results/conclusion/discussion (Sikai)| Discuss/edit full project |\n",
    "| 3/19  | Before 11:59 PM  | Finish project/review(all) | Turn in Final Project  |"
   ]
  },
  {
   "cell_type": "markdown",
   "metadata": {},
   "source": [
    "# Footnotes\n",
    "<a name=\"lorenznote\"></a>1.[^](#lorenz): Lorenz, T. (9 Dec 2021) Birds Aren’t Real, or Are They? Inside a Gen Z Conspiracy Theory. *The New York Times*. https://www.nytimes.com/2021/12/09/technology/birds-arent-real-gen-z-misinformation.html<br> \n",
    "<a name=\"admonishnote\"></a>2.[^](#admonish): Also refs should be important to the background, not some randomly chosen vaguely related stuff. Include a web link if possible in refs as above.<br>\n",
    "<a name=\"sotanote\"></a>3.[^](#sota): Perhaps the current state of the art solution such as you see on [Papers with code](https://paperswithcode.com/sota). Or maybe not SOTA, but rather a standard textbook/Kaggle solution to this kind of problem.<br>\n",
    "<a name=\"zhaonote\"></a>4.[^](#Zhao):Zhao, Quanbin, and Hanqi Wang. “Application of Unsupervised Transfer Technique Based on Deep Learning Model in Physical Training.” Computational Intelligence and Neuroscience, Hindawi, 14 Apr. 2022, www.hindawi.com/journals/cin/2022/8679221/. <br>\n",
    "<a name=\"ofoghinote\"></a>5.[^](#Ofoghi):Ofoghi, Bahadorreza & Zeleznikow, John & Macmahon, Clare & Dwyer, Dan. (2010). A Machine Learning Approach to Predicting Winning Patterns in Track Cycling Omnium. 331. 67-76. 10.1007/978-3-642-15286-3_7. <br>\n",
    "<a name=\"silvanote\"></a>6.[^](#Silva):Silva, João Vítor Rocha da, and Paulo Canas Rodrigues. “All-NBA Teams’ Selection Based on Unsupervised Learning.” MDPI, Multidisciplinary Digital Publishing Institute, 9 Feb. 2022, www.mdpi.com/2571-905X/5/1/11#table_body_display_stats-05-00011-t001. <br>\n"
   ]
  },
  {
   "cell_type": "code",
   "execution_count": null,
   "metadata": {},
   "outputs": [],
   "source": []
  }
 ],
 "metadata": {
  "kernelspec": {
   "display_name": "Python 3 (ipykernel)",
   "language": "python",
   "name": "python3"
  },
  "language_info": {
   "codemirror_mode": {
    "name": "ipython",
    "version": 3
   },
   "file_extension": ".py",
   "mimetype": "text/x-python",
   "name": "python",
   "nbconvert_exporter": "python",
   "pygments_lexer": "ipython3",
   "version": "3.9.0"
  }
 },
 "nbformat": 4,
 "nbformat_minor": 4
}
